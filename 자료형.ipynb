{
 "cells": [
  {
   "cell_type": "markdown",
   "id": "64aeb6a7",
   "metadata": {},
   "source": [
    "# 파이썬 자료형"
   ]
  },
  {
   "cell_type": "markdown",
   "id": "a67a8886",
   "metadata": {},
   "source": [
    "## [리스트]"
   ]
  },
  {
   "cell_type": "markdown",
   "id": "c0065c9b",
   "metadata": {},
   "source": [
    "#### <리스트 인덱싱>"
   ]
  },
  {
   "cell_type": "code",
   "execution_count": 2,
   "id": "cfbbf6f0",
   "metadata": {},
   "outputs": [
    {
     "data": {
      "text/plain": [
       "'Life'"
      ]
     },
     "execution_count": 2,
     "metadata": {},
     "output_type": "execute_result"
    }
   ],
   "source": [
    "a = [1,2, ['a','b', ['Life','is']]]\n",
    "a[2][2][0]"
   ]
  },
  {
   "cell_type": "markdown",
   "id": "ee5e66e1",
   "metadata": {},
   "source": [
    "#### <리스트 슬라이싱>"
   ]
  },
  {
   "cell_type": "code",
   "execution_count": 2,
   "id": "8acee032",
   "metadata": {},
   "outputs": [
    {
     "data": {
      "text/plain": [
       "['a', 'b']"
      ]
     },
     "execution_count": 2,
     "metadata": {},
     "output_type": "execute_result"
    }
   ],
   "source": [
    "a = [1, 2, 3, ['a', 'b', 'c'], 4, 5]\n",
    "a[2:5]\n",
    "a[3][:2]"
   ]
  },
  {
   "cell_type": "markdown",
   "id": "18309754",
   "metadata": {},
   "source": [
    "#### <리스트 연산하기>"
   ]
  },
  {
   "cell_type": "code",
   "execution_count": 3,
   "id": "055cebe4",
   "metadata": {},
   "outputs": [
    {
     "data": {
      "text/plain": [
       "'3hi'"
      ]
     },
     "execution_count": 3,
     "metadata": {},
     "output_type": "execute_result"
    }
   ],
   "source": [
    "a = [1,2,3]\n",
    "str(a[2]) + 'hi'"
   ]
  },
  {
   "cell_type": "markdown",
   "id": "8b8d8758",
   "metadata": {},
   "source": [
    "#### <리스트 관련 함수>"
   ]
  },
  {
   "cell_type": "markdown",
   "id": "77b60fd8",
   "metadata": {},
   "source": [
    "1. a.append()"
   ]
  },
  {
   "cell_type": "code",
   "execution_count": 5,
   "id": "5ab88dcf",
   "metadata": {},
   "outputs": [
    {
     "data": {
      "text/plain": [
       "[1, 2, 3, 4]"
      ]
     },
     "execution_count": 5,
     "metadata": {},
     "output_type": "execute_result"
    }
   ],
   "source": [
    "a = [1,2,3]\n",
    "a.append(4)\n",
    "a"
   ]
  },
  {
   "cell_type": "markdown",
   "id": "72851581",
   "metadata": {},
   "source": [
    "2. a.sort()"
   ]
  },
  {
   "cell_type": "code",
   "execution_count": 7,
   "id": "af6f7dc5",
   "metadata": {},
   "outputs": [
    {
     "data": {
      "text/plain": [
       "[1, 3, 4, 5]"
      ]
     },
     "execution_count": 7,
     "metadata": {},
     "output_type": "execute_result"
    }
   ],
   "source": [
    "a = [1,4,3,5]\n",
    "a.sort()\n",
    "a"
   ]
  },
  {
   "cell_type": "markdown",
   "id": "64382ef2",
   "metadata": {},
   "source": [
    "3. a.revervse()"
   ]
  },
  {
   "cell_type": "code",
   "execution_count": 10,
   "id": "657136dd",
   "metadata": {},
   "outputs": [
    {
     "data": {
      "text/plain": [
       "['b', 'c', 'a']"
      ]
     },
     "execution_count": 10,
     "metadata": {},
     "output_type": "execute_result"
    }
   ],
   "source": [
    "a = ['a', 'c', 'b']\n",
    "a.reverse()\n",
    "a"
   ]
  },
  {
   "cell_type": "markdown",
   "id": "df58a8eb",
   "metadata": {},
   "source": [
    "4. a.insert(,) / a.remove()"
   ]
  },
  {
   "cell_type": "code",
   "execution_count": 18,
   "id": "7dc49478",
   "metadata": {},
   "outputs": [
    {
     "name": "stdout",
     "output_type": "stream",
     "text": [
      "[4, 1, 2, 3]\n",
      "[4, 1, 2, 5, 3]\n",
      "[4, 1, 2, 5]\n"
     ]
    }
   ],
   "source": [
    "a = [1, 2, 3]\n",
    "a.insert(0, 4)\n",
    "print(a)\n",
    "a.insert(3,5)\n",
    "print(a)\n",
    "\n",
    "a.remove(3)\n",
    "print(a)"
   ]
  },
  {
   "cell_type": "markdown",
   "id": "7ce7cacb",
   "metadata": {},
   "source": [
    "5. a.pop()"
   ]
  },
  {
   "cell_type": "code",
   "execution_count": 20,
   "id": "349d72d0",
   "metadata": {},
   "outputs": [
    {
     "name": "stdout",
     "output_type": "stream",
     "text": [
      "[1, 3]\n"
     ]
    }
   ],
   "source": [
    "a = [1,2,3]\n",
    "a.pop(1)\n",
    "print(a)"
   ]
  },
  {
   "cell_type": "markdown",
   "id": "99aac63e",
   "metadata": {},
   "source": [
    "6. a.count() / a.extend()"
   ]
  },
  {
   "cell_type": "code",
   "execution_count": 24,
   "id": "57f8cf6b",
   "metadata": {},
   "outputs": [
    {
     "name": "stdout",
     "output_type": "stream",
     "text": [
      "2\n",
      "[1, 2, 3, 4, 5]\n"
     ]
    }
   ],
   "source": [
    "a = [1,2,3,1]\n",
    "print(a.count(1))\n",
    "\n",
    "a = [1,2,3]\n",
    "a.extend([4,5])\n",
    "print(a)"
   ]
  },
  {
   "cell_type": "markdown",
   "id": "4405a789",
   "metadata": {},
   "source": [
    "## (튜플)"
   ]
  },
  {
   "cell_type": "markdown",
   "id": "cfc89203",
   "metadata": {},
   "source": [
    "1. 요소값 생성, 삭제, 수정 불가\n",
    "2. 괄호 () 생략 가능"
   ]
  },
  {
   "cell_type": "code",
   "execution_count": 28,
   "id": "db0ab7ab",
   "metadata": {},
   "outputs": [
    {
     "data": {
      "text/plain": [
       "2"
      ]
     },
     "execution_count": 28,
     "metadata": {},
     "output_type": "execute_result"
    }
   ],
   "source": [
    "t1 = (1, 2, 'a', 'b')\n",
    "t1[1]"
   ]
  },
  {
   "cell_type": "markdown",
   "id": "00aafedc",
   "metadata": {},
   "source": [
    "## {딕셔너리}"
   ]
  },
  {
   "cell_type": "code",
   "execution_count": 34,
   "id": "7e312910",
   "metadata": {},
   "outputs": [
    {
     "name": "stdout",
     "output_type": "stream",
     "text": [
      "{'name': 'pay', 'phone': '0119993323', 'birth': '1118'}\n",
      "{'a': [1, 2, 3]}\n",
      "[1, 2, 3]\n"
     ]
    }
   ],
   "source": [
    "dic = {'name':'pay', 'phone':'0119993323', 'birth':'1118'}\n",
    "print(dic)\n",
    "\n",
    "a = {'a':[1,2,3]}\n",
    "print(a)\n",
    "print(a['a'])"
   ]
  },
  {
   "cell_type": "markdown",
   "id": "e6a9e993",
   "metadata": {},
   "source": [
    "#### <딕셔너리 요소 추가/삭제>"
   ]
  },
  {
   "cell_type": "code",
   "execution_count": 37,
   "id": "544723be",
   "metadata": {},
   "outputs": [
    {
     "name": "stdout",
     "output_type": "stream",
     "text": [
      "{1: 'a', 2: 'b', 3: ['a', 'b', 'c']}\n",
      "{2: 'b', 3: ['a', 'b', 'c']}\n"
     ]
    }
   ],
   "source": [
    "a = {1: 'a'}\n",
    "a[2] = 'b'\n",
    "a[3] = ['a','b','c']\n",
    "print(a)\n",
    "\n",
    "del a[1]\n",
    "print(a)"
   ]
  },
  {
   "cell_type": "markdown",
   "id": "370cba16",
   "metadata": {},
   "source": [
    "#### <key 리스트 / value 리스트 얻기>"
   ]
  },
  {
   "cell_type": "code",
   "execution_count": 40,
   "id": "0e415741",
   "metadata": {
    "scrolled": true
   },
   "outputs": [
    {
     "name": "stdout",
     "output_type": "stream",
     "text": [
      "dict_keys(['name', 'phone', 'birth'])\n",
      "dict_values(['pey', '0119993323', '1118'])\n",
      "['name', 'phone', 'birth']\n",
      "['pey', '0119993323', '1118']\n",
      "name\n",
      "phone\n",
      "birth\n"
     ]
    }
   ],
   "source": [
    "a = {'name': 'pey', 'phone': '0119993323', 'birth': '1118'}\n",
    "print(a.keys())\n",
    "print(a.values())\n",
    "\n",
    "# 둘다 list로 변환 가능\n",
    "print(list(a.keys()))\n",
    "print(list(a.values()))\n",
    "\n",
    "# key 객체로 for도 가능\n",
    "for i in a.keys():\n",
    "    print(i)"
   ]
  },
  {
   "cell_type": "markdown",
   "id": "7069cce8",
   "metadata": {},
   "source": [
    "#### <key, value 쌍 얻기 / 지우기>"
   ]
  },
  {
   "cell_type": "code",
   "execution_count": 43,
   "id": "14a3ac42",
   "metadata": {},
   "outputs": [
    {
     "name": "stdout",
     "output_type": "stream",
     "text": [
      "dict_items([('name', 'pey'), ('phone', '0119993323'), ('birth', '1118')])\n",
      "[('name', 'pey'), ('phone', '0119993323'), ('birth', '1118')]\n",
      "{}\n"
     ]
    }
   ],
   "source": [
    "a = {'name': 'pey', 'phone': '0119993323', 'birth': '1118'}\n",
    "print(a.items())\n",
    "print(list(a.items())) # 리스트로 변환도 가능\n",
    "\n",
    "a.clear()\n",
    "print(a)"
   ]
  },
  {
   "cell_type": "markdown",
   "id": "d06d0186",
   "metadata": {},
   "source": [
    "#### <get - key로 value 얻기>\n",
    "원래 접근하는 구조(a['key'])와 달리 검색 key의 value가 없다면 None 출력"
   ]
  },
  {
   "cell_type": "code",
   "execution_count": 47,
   "id": "2f8933d2",
   "metadata": {},
   "outputs": [
    {
     "name": "stdout",
     "output_type": "stream",
     "text": [
      "pey\n",
      "None\n"
     ]
    },
    {
     "ename": "KeyError",
     "evalue": "'address'",
     "output_type": "error",
     "traceback": [
      "\u001b[1;31m---------------------------------------------------------------------------\u001b[0m",
      "\u001b[1;31mKeyError\u001b[0m                                  Traceback (most recent call last)",
      "\u001b[1;32m<ipython-input-47-0e0998e1068b>\u001b[0m in \u001b[0;36m<module>\u001b[1;34m\u001b[0m\n\u001b[0;32m      3\u001b[0m \u001b[1;33m\u001b[0m\u001b[0m\n\u001b[0;32m      4\u001b[0m \u001b[0mprint\u001b[0m\u001b[1;33m(\u001b[0m\u001b[0ma\u001b[0m\u001b[1;33m.\u001b[0m\u001b[0mget\u001b[0m\u001b[1;33m(\u001b[0m\u001b[1;34m'address'\u001b[0m\u001b[1;33m)\u001b[0m\u001b[1;33m)\u001b[0m \u001b[1;31m# None 출력\u001b[0m\u001b[1;33m\u001b[0m\u001b[1;33m\u001b[0m\u001b[0m\n\u001b[1;32m----> 5\u001b[1;33m \u001b[0mprint\u001b[0m\u001b[1;33m(\u001b[0m\u001b[0ma\u001b[0m\u001b[1;33m[\u001b[0m\u001b[1;34m'address'\u001b[0m\u001b[1;33m]\u001b[0m\u001b[1;33m)\u001b[0m \u001b[1;31m# 에러\u001b[0m\u001b[1;33m\u001b[0m\u001b[1;33m\u001b[0m\u001b[0m\n\u001b[0m",
      "\u001b[1;31mKeyError\u001b[0m: 'address'"
     ]
    }
   ],
   "source": [
    "a = {'name': 'pey', 'phone': '0119993323', 'birth': '1118'}\n",
    "print(a.get('name'))\n",
    "\n",
    "print(a.get('address')) # None 출력\n",
    "print(a['address']) # 에러"
   ]
  },
  {
   "cell_type": "markdown",
   "id": "e063535b",
   "metadata": {},
   "source": [
    "#### <해당 key가 딕셔너리 안에 있나 조사>"
   ]
  },
  {
   "cell_type": "code",
   "execution_count": 51,
   "id": "0be33a60",
   "metadata": {},
   "outputs": [
    {
     "data": {
      "text/plain": [
       "False"
      ]
     },
     "execution_count": 51,
     "metadata": {},
     "output_type": "execute_result"
    }
   ],
   "source": [
    "a = {'name': 'pey', 'phone': '0119993323', 'birth': '1118'}\n",
    "'name' in a # True\n",
    "'address' in a # False"
   ]
  },
  {
   "cell_type": "markdown",
   "id": "da24180b",
   "metadata": {},
   "source": [
    "## 집합 - set\n",
    "1. 중복이 허용 X\n",
    "2. 순서가 없다"
   ]
  },
  {
   "cell_type": "code",
   "execution_count": 56,
   "id": "1328d7d4",
   "metadata": {},
   "outputs": [
    {
     "name": "stdout",
     "output_type": "stream",
     "text": [
      "{1, 2, 3, 4, 5}\n",
      "[1, 2, 3, 4, 5]\n"
     ]
    }
   ],
   "source": [
    "s1 = set([1,2,3,3,4,5,5,5])\n",
    "print(s1)\n",
    "print(list(s1))"
   ]
  },
  {
   "cell_type": "markdown",
   "id": "03f07519",
   "metadata": {},
   "source": [
    "#### <교집합, 합집합, 차집합>"
   ]
  },
  {
   "cell_type": "code",
   "execution_count": 57,
   "id": "a3b6752d",
   "metadata": {
    "scrolled": true
   },
   "outputs": [
    {
     "name": "stdout",
     "output_type": "stream",
     "text": [
      "{4, 5, 6}\n",
      "{1, 2, 3, 4, 5, 6, 7, 8, 9}\n",
      "{1, 2, 3}\n"
     ]
    }
   ],
   "source": [
    "s1 = set([1, 2, 3, 4, 5, 6])\n",
    "s2 = set([4, 5, 6, 7, 8, 9])\n",
    "\n",
    "print(s1 & s2) # s1.intersection(s2)\n",
    "print(s1 | s2) # s1.union(s2)\n",
    "print(s1 - s2) # s1.difference(s2)"
   ]
  },
  {
   "cell_type": "markdown",
   "id": "a1d6168e",
   "metadata": {},
   "source": [
    "#### <값 추가 / 제거>"
   ]
  },
  {
   "cell_type": "code",
   "execution_count": 65,
   "id": "653a0278",
   "metadata": {},
   "outputs": [
    {
     "name": "stdout",
     "output_type": "stream",
     "text": [
      "{1, 2, 3, 4, 5, 6, 7}\n",
      "{1, 2, 3, 4, 5, 6, 7, 8, 9, 10}\n",
      "{1, 2, 4, 5, 6, 7, 8, 9, 10}\n"
     ]
    }
   ],
   "source": [
    "s1 = set([1, 2, 3, 4, 5, 6])\n",
    "s1.add(7) # 한개 추가\n",
    "print(s1) \n",
    "\n",
    "s1.update([8,9,10]) # 여러개 추가\n",
    "print(s1)\n",
    "\n",
    "s1.remove(3) # 특정값 제거\n",
    "print(s1)"
   ]
  }
 ],
 "metadata": {
  "kernelspec": {
   "display_name": "Python 3",
   "language": "python",
   "name": "python3"
  },
  "language_info": {
   "codemirror_mode": {
    "name": "ipython",
    "version": 3
   },
   "file_extension": ".py",
   "mimetype": "text/x-python",
   "name": "python",
   "nbconvert_exporter": "python",
   "pygments_lexer": "ipython3",
   "version": "3.8.8"
  }
 },
 "nbformat": 4,
 "nbformat_minor": 5
}
