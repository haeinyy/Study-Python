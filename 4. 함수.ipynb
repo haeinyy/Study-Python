{
 "cells": [
  {
   "cell_type": "markdown",
   "id": "11f2aea2",
   "metadata": {},
   "source": [
    "## 파이썬 함수"
   ]
  },
  {
   "cell_type": "markdown",
   "id": "cbe7f721",
   "metadata": {},
   "source": [
    "#### 일반적인 함수"
   ]
  },
  {
   "cell_type": "code",
   "execution_count": 1,
   "id": "0251728e",
   "metadata": {},
   "outputs": [
    {
     "name": "stdout",
     "output_type": "stream",
     "text": [
      "7\n"
     ]
    }
   ],
   "source": [
    "def add(a, b): \n",
    "    result = a + b \n",
    "    return result\n",
    "\n",
    "a = add(3, 4)\n",
    "print(a)"
   ]
  },
  {
   "cell_type": "markdown",
   "id": "6c0b60f3",
   "metadata": {},
   "source": [
    "#### 입력값이 없는 함수"
   ]
  },
  {
   "cell_type": "code",
   "execution_count": 2,
   "id": "46b53a5a",
   "metadata": {},
   "outputs": [
    {
     "name": "stdout",
     "output_type": "stream",
     "text": [
      "Hi\n"
     ]
    }
   ],
   "source": [
    "def say(): \n",
    "    return 'Hi' \n",
    "\n",
    "a = say()\n",
    "print(a)"
   ]
  },
  {
   "cell_type": "markdown",
   "id": "e3d95f85",
   "metadata": {},
   "source": [
    "#### 결괏값이 없는 함수"
   ]
  },
  {
   "cell_type": "code",
   "execution_count": 6,
   "id": "21278536",
   "metadata": {},
   "outputs": [
    {
     "name": "stdout",
     "output_type": "stream",
     "text": [
      "3, 4의 합은 7입니다.\n",
      "None\n"
     ]
    }
   ],
   "source": [
    "def add(a, b): \n",
    "     print(\"%d, %d의 합은 %d입니다.\" % (a, b, a+b))\n",
    "        \n",
    "a = add(3,4)\n",
    "print(a) # return 값이 없음..!!"
   ]
  },
  {
   "cell_type": "markdown",
   "id": "b9f2e734",
   "metadata": {},
   "source": [
    "#### 입력값도 결괏값도 없는 함수"
   ]
  },
  {
   "cell_type": "code",
   "execution_count": 7,
   "id": "50eb48e8",
   "metadata": {},
   "outputs": [
    {
     "name": "stdout",
     "output_type": "stream",
     "text": [
      "Hi\n"
     ]
    }
   ],
   "source": [
    "def say(): \n",
    "    print('Hi')\n",
    "    \n",
    "say()"
   ]
  },
  {
   "cell_type": "markdown",
   "id": "c6394ab6",
   "metadata": {},
   "source": [
    "#### 여러 개의 입력값을 받는 함수 만들기"
   ]
  },
  {
   "cell_type": "code",
   "execution_count": 9,
   "id": "78a27f77",
   "metadata": {},
   "outputs": [
    {
     "name": "stdout",
     "output_type": "stream",
     "text": [
      "6\n",
      "28\n"
     ]
    }
   ],
   "source": [
    "def add_many(*args):\n",
    "    result = 0\n",
    "    for i in args:\n",
    "        result = result + i\n",
    "    return result\n",
    "\n",
    "result = add_many(1,2,3)\n",
    "print(result)\n",
    "\n",
    "result2 = add_many(1,2,3,4,5,6,7)\n",
    "print(result2)"
   ]
  },
  {
   "cell_type": "code",
   "execution_count": 18,
   "id": "ba918d2f",
   "metadata": {},
   "outputs": [
    {
     "name": "stdout",
     "output_type": "stream",
     "text": [
      "15\n",
      "120\n"
     ]
    }
   ],
   "source": [
    "def add_mul(choice, *args):\n",
    "    if choice == 'add':\n",
    "        result = 0\n",
    "        for i in args:\n",
    "            result = result + i\n",
    "    elif choice == 'mul':\n",
    "        result = 1\n",
    "        for i in args:\n",
    "            result = result * i\n",
    "    return result\n",
    "\n",
    "result = add_mul('add', 1,2,3,4,5)\n",
    "print(result)\n",
    "\n",
    "result2 = add_mul('mul', 1,2,3,4,5)\n",
    "print(result2)"
   ]
  },
  {
   "cell_type": "markdown",
   "id": "8361264e",
   "metadata": {},
   "source": [
    "연습"
   ]
  },
  {
   "cell_type": "code",
   "execution_count": 32,
   "id": "19cd256c",
   "metadata": {},
   "outputs": [
    {
     "name": "stdout",
     "output_type": "stream",
     "text": [
      "높은 점수 : 100\n",
      "높은 점수 : 91\n"
     ]
    }
   ],
   "source": [
    "def get_max_score(*subjects):\n",
    "    score = 0\n",
    "    for subject in subjects:\n",
    "        if subject > score:\n",
    "            score = subject\n",
    "    return score\n",
    "\n",
    "korean, english, math, science = 100, 86, 81, 91\n",
    "\n",
    "max_score = get_max_score(korean,english,math,science)\n",
    "print('높은 점수 :',max_score)\n",
    "\n",
    "max_score = get_max_score(english,science)\n",
    "print('높은 점수 :',max_score)"
   ]
  },
  {
   "cell_type": "markdown",
   "id": "8966dd5b",
   "metadata": {},
   "source": [
    "#### 함수의 결괏값은 언제나 하나이다"
   ]
  },
  {
   "cell_type": "code",
   "execution_count": 39,
   "id": "f068ed32",
   "metadata": {},
   "outputs": [
    {
     "name": "stdout",
     "output_type": "stream",
     "text": [
      "(7, 12)\n",
      "11 30\n"
     ]
    }
   ],
   "source": [
    "def add_and_mul(a,b):\n",
    "    return a+b, a*b\n",
    "\n",
    "result = add_and_mul(3,4)\n",
    "print(result) # 튜플로 출력\n",
    "\n",
    "result1, result2 = add_and_mul(5,6) # 각 튜플의 인수를 변수에 저장\n",
    "print(result1, result2)"
   ]
  },
  {
   "cell_type": "markdown",
   "id": "f7a6b996",
   "metadata": {},
   "source": [
    "#### 매개변수에 초깃값 미리 설정하기"
   ]
  },
  {
   "cell_type": "code",
   "execution_count": 40,
   "id": "ff671464",
   "metadata": {
    "scrolled": true
   },
   "outputs": [
    {
     "name": "stdout",
     "output_type": "stream",
     "text": [
      "나의 이름은 박응용 입니다.\n",
      "나이는 27살입니다.\n",
      "남자입니다.\n",
      "나의 이름은 박응선 입니다.\n",
      "나이는 27살입니다.\n",
      "여자입니다.\n"
     ]
    }
   ],
   "source": [
    "def say_myself(name, old,man=True): \n",
    "    print(\"나의 이름은 %s 입니다.\" % name) \n",
    "    print(\"나이는 %d살입니다.\" % old) \n",
    "    if man: \n",
    "        print(\"남자입니다.\") \n",
    "    else: \n",
    "        print(\"여자입니다.\")\n",
    "        \n",
    "say_myself(\"박응용\", 27)\n",
    "say_myself(\"박응선\", 27, False)"
   ]
  },
  {
   "cell_type": "markdown",
   "id": "0ba2985f",
   "metadata": {},
   "source": [
    "#### lambda\n",
    "한 줄로 정의하는 간략한 함수! def와 동일한 역할\n",
    "return 명령어가 없어도 결괏값을 돌려줌"
   ]
  },
  {
   "cell_type": "code",
   "execution_count": 44,
   "id": "21df795c",
   "metadata": {},
   "outputs": [
    {
     "name": "stdout",
     "output_type": "stream",
     "text": [
      "7\n"
     ]
    }
   ],
   "source": [
    "add = lambda a,b: a+b\n",
    "result = add(3,4)\n",
    "print(result)"
   ]
  },
  {
   "cell_type": "code",
   "execution_count": 48,
   "id": "54062b74",
   "metadata": {},
   "outputs": [
    {
     "name": "stdout",
     "output_type": "stream",
     "text": [
      "['1.png', '10.jpg', '2.jpg', '3.png']\n",
      "['1.png', '10.jpg', '2.jpg', '3.png']\n"
     ]
    }
   ],
   "source": [
    "files = ['font', '1.png', '10.jpg', '11.gif', '2.jpg', '3.png', 'table.xslx', 'spec.docx']\n",
    "\n",
    "\n",
    "# 1) 일반함수\n",
    "def selectfile(*files):\n",
    "    result = 0\n",
    "    for file in files:\n",
    "        if \".jpg\" in file or '.png' in file:\n",
    "            result.append(file)\n",
    "    return result\n",
    "\n",
    "ouput = selectfile(files)\n",
    "print(output)\n",
    "\n",
    "\n",
    "\n",
    "# 2) lambda 식\n",
    "output = list(filter(lambda file: \".jpg\" in file or \".png\" in file ,files))\n",
    "print(output)"
   ]
  }
 ],
 "metadata": {
  "kernelspec": {
   "display_name": "Python 3",
   "language": "python",
   "name": "python3"
  },
  "language_info": {
   "codemirror_mode": {
    "name": "ipython",
    "version": 3
   },
   "file_extension": ".py",
   "mimetype": "text/x-python",
   "name": "python",
   "nbconvert_exporter": "python",
   "pygments_lexer": "ipython3",
   "version": "3.8.8"
  }
 },
 "nbformat": 4,
 "nbformat_minor": 5
}
