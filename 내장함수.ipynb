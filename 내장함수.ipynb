{
 "cells": [
  {
   "cell_type": "markdown",
   "id": "2f267b4c",
   "metadata": {},
   "source": [
    "## 내장함수"
   ]
  },
  {
   "cell_type": "markdown",
   "id": "fbeff1e4",
   "metadata": {},
   "source": [
    "### 1. enumerate"
   ]
  },
  {
   "cell_type": "code",
   "execution_count": 1,
   "id": "43d5af1b",
   "metadata": {},
   "outputs": [
    {
     "name": "stdout",
     "output_type": "stream",
     "text": [
      "0 body\n",
      "1 foo\n",
      "2 bar\n"
     ]
    }
   ],
   "source": [
    "for i,name in enumerate(['body','foo','bar']):\n",
    "    print(i,name)"
   ]
  },
  {
   "cell_type": "markdown",
   "id": "c3955f49",
   "metadata": {},
   "source": [
    "### 2. filter\n",
    "filter(함수, 반복가능한 자료형)\n",
    "=> true인 값만 반환\n",
    "=> list화 필수"
   ]
  },
  {
   "cell_type": "code",
   "execution_count": 5,
   "id": "89dbd1ee",
   "metadata": {
    "scrolled": true
   },
   "outputs": [
    {
     "name": "stdout",
     "output_type": "stream",
     "text": [
      "[1, 2, 6]\n",
      "[1, 2, 6]\n"
     ]
    }
   ],
   "source": [
    "# 1. 일반함수\n",
    "def positive(x):\n",
    "    return x > 0\n",
    "\n",
    "print(list(filter(positive, [1, -3, 2, 0, -5, 6])))\n",
    "\n",
    "# 2. lambda\n",
    "a = list(filter(lambda x: x>0,[1, -3, 2, 0, -5, 6]))\n",
    "print(a)"
   ]
  },
  {
   "cell_type": "markdown",
   "id": "f82772d0",
   "metadata": {},
   "source": [
    "### 3. map\n",
    "map(함수, 반복가능한 자료형) \n",
    "=> filter와 달리 결과값 자체 출력\n",
    "=> 리스트화 필수"
   ]
  },
  {
   "cell_type": "code",
   "execution_count": 11,
   "id": "c241d393",
   "metadata": {},
   "outputs": [
    {
     "name": "stdout",
     "output_type": "stream",
     "text": [
      "[2, 4, 6, 8]\n",
      "[2, 4, 6, 8]\n"
     ]
    }
   ],
   "source": [
    "# 1. 일반함수\n",
    "def two_times(x):\n",
    "    return 2*x\n",
    "\n",
    "print(list(map(two_times, [1,2,3,4])))\n",
    "\n",
    "# 2. lambda\n",
    "a = list(map(lambda x: x*2, [1,2,3,4]))\n",
    "print(a)"
   ]
  }
 ],
 "metadata": {
  "kernelspec": {
   "display_name": "Python 3",
   "language": "python",
   "name": "python3"
  },
  "language_info": {
   "codemirror_mode": {
    "name": "ipython",
    "version": 3
   },
   "file_extension": ".py",
   "mimetype": "text/x-python",
   "name": "python",
   "nbconvert_exporter": "python",
   "pygments_lexer": "ipython3",
   "version": "3.8.8"
  }
 },
 "nbformat": 4,
 "nbformat_minor": 5
}
