{
 "cells": [
  {
   "cell_type": "markdown",
   "id": "f4da147b",
   "metadata": {},
   "source": [
    "## 파이썬 제어문\n",
    "들여쓰기에 주의하자!"
   ]
  },
  {
   "cell_type": "markdown",
   "id": "5857cf0b",
   "metadata": {},
   "source": [
    "### 1. if문 "
   ]
  },
  {
   "cell_type": "code",
   "execution_count": 1,
   "id": "e7ade9b6",
   "metadata": {},
   "outputs": [
    {
     "name": "stdout",
     "output_type": "stream",
     "text": [
      "택시 타고 가슈\n"
     ]
    }
   ],
   "source": [
    "money = True\n",
    "if money:\n",
    "    print(\"택시 타고 가슈\")\n",
    "else:\n",
    "    print(\"걸어 가슈\")"
   ]
  },
  {
   "cell_type": "code",
   "execution_count": 3,
   "id": "cc8756e9",
   "metadata": {},
   "outputs": [
    {
     "name": "stdout",
     "output_type": "stream",
     "text": [
      "걸어가슈\n"
     ]
    }
   ],
   "source": [
    "money = 2000\n",
    "if money >= 3000: print(\"택시 타고 가슈\")\n",
    "else: print(\"걸어가슈\")"
   ]
  },
  {
   "cell_type": "markdown",
   "id": "bd720f1f",
   "metadata": {},
   "source": [
    "#### <in / not in>\n",
    "리스트, 튜플, 문자열 가능"
   ]
  },
  {
   "cell_type": "code",
   "execution_count": 7,
   "id": "7e5583b6",
   "metadata": {},
   "outputs": [
    {
     "name": "stdout",
     "output_type": "stream",
     "text": [
      "택시 타고 가슈\n"
     ]
    }
   ],
   "source": [
    "pocket = ['paper', 'cellphone', 'money']\n",
    "if 'money' in pocket:\n",
    "    print(\"택시 타고 가슈\")\n",
    "elif 'card':\n",
    "    pass # 그냥 지나감\n",
    "else:\n",
    "    print(\"걸어가슈\")"
   ]
  },
  {
   "cell_type": "markdown",
   "id": "592a88de",
   "metadata": {},
   "source": [
    "#### <조건부 표현식>\n",
    "조건문이 참인 경우 if 조건문 else 조건문이 거짓인 경우"
   ]
  },
  {
   "cell_type": "code",
   "execution_count": 11,
   "id": "408d0e19",
   "metadata": {},
   "outputs": [
    {
     "name": "stdout",
     "output_type": "stream",
     "text": [
      "success\n"
     ]
    }
   ],
   "source": [
    "score = 70\n",
    "message = \"success\" if score >= 60 else \"failure\"\n",
    "print(message)"
   ]
  },
  {
   "cell_type": "markdown",
   "id": "27ff9771",
   "metadata": {},
   "source": [
    "### 3. for문"
   ]
  },
  {
   "cell_type": "markdown",
   "id": "6b74b7df",
   "metadata": {},
   "source": [
    "#### <피라미드 만들기>"
   ]
  },
  {
   "cell_type": "code",
   "execution_count": 4,
   "id": "bbf16178",
   "metadata": {},
   "outputs": [
    {
     "name": "stdout",
     "output_type": "stream",
     "text": [
      "*****\n",
      "*****\n",
      "*****\n",
      "*****\n",
      "*****\n"
     ]
    }
   ],
   "source": [
    "for i in range(5):\n",
    "    for j in range(5):\n",
    "        print(\"*\", end='')\n",
    "    print()\n",
    "    \n",
    "# print( , end='') => 줄바꿈 없어짐"
   ]
  },
  {
   "cell_type": "code",
   "execution_count": 5,
   "id": "782769ab",
   "metadata": {},
   "outputs": [
    {
     "name": "stdout",
     "output_type": "stream",
     "text": [
      "*\n",
      "**\n",
      "***\n",
      "****\n",
      "*****\n"
     ]
    }
   ],
   "source": [
    "for i in range(1,6):\n",
    "    for j in range(i):\n",
    "        print('*', end='')\n",
    "    print()"
   ]
  },
  {
   "cell_type": "code",
   "execution_count": 6,
   "id": "386f77e9",
   "metadata": {},
   "outputs": [
    {
     "name": "stdout",
     "output_type": "stream",
     "text": [
      "*****\n",
      "****\n",
      "***\n",
      "**\n",
      "*\n"
     ]
    }
   ],
   "source": [
    "for i in range(1,6):\n",
    "    for j in range(6-i):\n",
    "        print(\"*\", end='')\n",
    "    print()"
   ]
  },
  {
   "cell_type": "code",
   "execution_count": 7,
   "id": "d43af68d",
   "metadata": {},
   "outputs": [
    {
     "name": "stdout",
     "output_type": "stream",
     "text": [
      "    *\n",
      "   **\n",
      "  ***\n",
      " ****\n",
      "*****\n"
     ]
    }
   ],
   "source": [
    "for i in range(1,6):\n",
    "    for j in range(5-i):\n",
    "        print(\" \",end='')\n",
    "    print('*'*i)"
   ]
  },
  {
   "cell_type": "code",
   "execution_count": 8,
   "id": "7e09bd03",
   "metadata": {
    "scrolled": true
   },
   "outputs": [
    {
     "name": "stdout",
     "output_type": "stream",
     "text": [
      "    *\n",
      "   ***\n",
      "  *****\n",
      " *******\n"
     ]
    }
   ],
   "source": [
    "for i in range(1,9,2):\n",
    "    for j in range(int(5-i/2)):\n",
    "        print(' ',end='')\n",
    "    for j in range(i):\n",
    "        print('*', end='')\n",
    "    print()"
   ]
  },
  {
   "cell_type": "markdown",
   "id": "a44807fc",
   "metadata": {},
   "source": [
    "#### 리스트 내포하기"
   ]
  },
  {
   "cell_type": "code",
   "execution_count": 9,
   "id": "962b7acc",
   "metadata": {},
   "outputs": [
    {
     "name": "stdout",
     "output_type": "stream",
     "text": [
      "[3, 6, 9, 12]\n",
      "[6, 12]\n"
     ]
    }
   ],
   "source": [
    "a = [1,2,3,4]\n",
    "result = [num*3 for num in a]\n",
    "print(result)\n",
    "\n",
    "# [3, 6, 9, 12]\n",
    "\n",
    "result2 = [num*3 for num in a if num%2==0]\n",
    "print(result2)\n",
    "\n",
    "# [6, 12]"
   ]
  }
 ],
 "metadata": {
  "kernelspec": {
   "display_name": "Python 3",
   "language": "python",
   "name": "python3"
  },
  "language_info": {
   "codemirror_mode": {
    "name": "ipython",
    "version": 3
   },
   "file_extension": ".py",
   "mimetype": "text/x-python",
   "name": "python",
   "nbconvert_exporter": "python",
   "pygments_lexer": "ipython3",
   "version": "3.8.8"
  }
 },
 "nbformat": 4,
 "nbformat_minor": 5
}
