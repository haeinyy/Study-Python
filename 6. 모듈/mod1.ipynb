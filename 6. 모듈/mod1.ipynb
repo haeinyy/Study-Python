{
 "cells": [
  {
   "cell_type": "code",
   "execution_count": 1,
   "id": "e01e9c98",
   "metadata": {},
   "outputs": [],
   "source": [
    "# mod1.py\n",
    "def add(a,b):\n",
    "    return a+b\n",
    "\n",
    "def sub(a,b):\n",
    "    return a-b"
   ]
  },
  {
   "cell_type": "code",
   "execution_count": 4,
   "id": "c20cca77",
   "metadata": {},
   "outputs": [
    {
     "name": "stdout",
     "output_type": "stream",
     "text": [
      "5\n",
      "-3\n"
     ]
    }
   ],
   "source": [
    "# 직접 이 파일은 실행 할 때, 아래 구문 실행\n",
    "# 하지만, 다른 파일에서 이 모듈을 import해서 사용하면..?? => 실행안됨\n",
    "if __name__ == '__main__':\n",
    "    print(add(1,4))\n",
    "    print(sub(1,4))"
   ]
  }
 ],
 "metadata": {
  "kernelspec": {
   "display_name": "Python 3",
   "language": "python",
   "name": "python3"
  },
  "language_info": {
   "codemirror_mode": {
    "name": "ipython",
    "version": 3
   },
   "file_extension": ".py",
   "mimetype": "text/x-python",
   "name": "python",
   "nbconvert_exporter": "python",
   "pygments_lexer": "ipython3",
   "version": "3.8.8"
  }
 },
 "nbformat": 4,
 "nbformat_minor": 5
}
